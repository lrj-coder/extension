{
 "nbformat": 4,
 "nbformat_minor": 2,
 "metadata": {
  "language_info": {
   "name": "python",
   "codemirror_mode": {
    "name": "ipython",
    "version": 3
   },
   "version": "3.7.6-final"
  },
  "orig_nbformat": 2,
  "file_extension": ".py",
  "mimetype": "text/x-python",
  "name": "python",
  "npconvert_exporter": "python",
  "pygments_lexer": "ipython3",
  "version": 3,
  "kernelspec": {
   "name": "python3",
   "display_name": "Python 3"
  }
 },
 "cells": [
  {
   "cell_type": "code",
   "execution_count": 12,
   "metadata": {},
   "outputs": [
    {
     "output_type": "stream",
     "name": "stdout",
     "text": "age\n20\n18\n17\n20\n30\n15\n25\n18\n17\n27\n"
    }
   ],
   "source": [
    "import os\n",
    "import zipfile#使用Python自带的zipfile模块完成zip文件的读写\n",
    "import os.path\n",
    "import csv \n",
    "\n",
    "def read_zip():\n",
    "\n",
    "    z = zipfile.ZipFile(\"data.zip\",\"r\")\n",
    "\n",
    "    #打印zip文件中的文件列表\n",
    "    for filename in z.namelist():\n",
    "        print(\"filename:\",filename)\n",
    "    #打印第一个文件中的内容\n",
    "    first_file_name = z.namelist()[2]\n",
    "    print(first_file_name)\n",
    "    first_file_content = z.read(first_file_name)\n",
    "    print(first_file_content)\n",
    "\n",
    "def read_txt():\n",
    "\n",
    "    t = open(\"database.txt\")\n",
    "    print(t.read())\n",
    "    t.close()\n",
    "\n",
    "def read_csv():\n",
    "    \n",
    "    with open(\"excel.csv\",\"r\",encoding = 'utf-8') as csv_fie:\n",
    "        csv_reader = csv.reader(csv_fie)#csv_rader对象是一个列表格式\n",
    "        # print(csv_reader)\n",
    "        #csv_reader对象是一个迭代器，可以通过next()来取出其中的元素\n",
    "        #print(next(csv_reader))\n",
    "        #print(type(csv_reader))\n",
    "        for line in csv_reader:\n",
    "            print(line[1])\n",
    "    \n",
    "# read_zip()\n",
    "# read_txt()\n",
    "read_csv()"
   ]
  },
  {
   "cell_type": "code",
   "execution_count": null,
   "metadata": {},
   "outputs": [],
   "source": []
  }
 ]
}