{
 "nbformat": 4,
 "nbformat_minor": 2,
 "metadata": {
  "language_info": {
   "name": "python",
   "codemirror_mode": {
    "name": "ipython",
    "version": 3
   },
   "version": "3.7.6-final"
  },
  "orig_nbformat": 2,
  "file_extension": ".py",
  "mimetype": "text/x-python",
  "name": "python",
  "npconvert_exporter": "python",
  "pygments_lexer": "ipython3",
  "version": 3,
  "kernelspec": {
   "name": "python3",
   "display_name": "Python 3"
  }
 },
 "cells": [
  {
   "cell_type": "code",
   "execution_count": 3,
   "metadata": {},
   "outputs": [
    {
     "output_type": "stream",
     "name": "stdout",
     "text": "[2, 3, 5, 6, 7, 8, 9, 10, 1]\n[2, 3, 5, 6, 8, 9, 10, 1]\n[2, 3, 5, 6, 8, 9, 1]\n[2, 5, 6, 8, 9, 1]\n[2, 5, 6, 9, 1]\n[5, 6, 9, 1]\n[5, 6, 1]\n[5, 1]\n[5]\n[]\nhello!\nlrj\n"
    }
   ],
   "source": [
    "def joseph_ring(all_num,step,start_site):\n",
    "\n",
    "    bit_offset = 1\n",
    "    start_bit = 0\n",
    "    source_cyc = []\n",
    "    result = []\n",
    "    middle = []\n",
    "\n",
    "    for x in range(start_bit,all_num):\n",
    "        source_cyc.append(x+1)\n",
    "\n",
    "    for x in range(start_site-bit_offset,all_num):\n",
    "        middle.append(source_cyc[x])\n",
    "    for x in range(start_bit,start_site-bit_offset):\n",
    "        middle.append(source_cyc[x])\n",
    "    source_cyc = middle\n",
    "\n",
    "    flag_index = 0\n",
    "    for i in range(all_num):\n",
    "        flag_index = (flag_index + step)%len(source_cyc) - bit_offset\n",
    "        result.append(source_cyc[flag_index])\n",
    "        source_cyc.pop(flag_index)\n",
    "        print(source_cyc)\n",
    "    return result\n",
    "\n",
    "\n",
    "\n",
    "\n",
    "joseph_ring(10,3,2)\n",
    "print(\"hello!\")\n",
    "print(\"lrj\")\n",
    ""
   ]
  },
  {
   "cell_type": "code",
   "execution_count": null,
   "metadata": {},
   "outputs": [],
   "source": []
  }
 ]
}