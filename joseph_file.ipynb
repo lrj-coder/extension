{
 "nbformat": 4,
 "nbformat_minor": 2,
 "metadata": {
  "language_info": {
   "name": "python",
   "codemirror_mode": {
    "name": "ipython",
    "version": 3
   },
   "version": "3.7.6-final"
  },
  "orig_nbformat": 2,
  "file_extension": ".py",
  "mimetype": "text/x-python",
  "name": "python",
  "npconvert_exporter": "python",
  "pygments_lexer": "ipython3",
  "version": 3,
  "kernelspec": {
   "name": "python3",
   "display_name": "Python 3"
  }
 },
 "cells": [
  {
   "cell_type": "code",
<<<<<<< HEAD
   "execution_count": 4,
=======
   "execution_count": 11,
>>>>>>> ff82f28c2f52353d76ec090088561514fdc6394e
   "metadata": {},
   "outputs": [
    {
     "output_type": "stream",
     "name": "stdout",
<<<<<<< HEAD
     "text": "name: tony \tage: 18 \tgender: man\nname: joy \tage: 20 \tgender: women\nname: robert \tage: 15 \tgender: man\nname: july \tage: 18 \tgender: women\nname: albert \tage: 27 \tgender: man\nname: jack \tage: 20 \tgender: man\nname: james \tage: 30 \tgender: man\nname: richard \tage: 17 \tgender: man\nname: hellen \tage: 17 \tgender: women\nname: frank \tage: 25 \tgender: man\n"
    }
   ],
   "source": [
=======
     "text": "name: tony \tage: 18 \\gender: man\nname: joy \tage: 20 \\gender: women\nname: robert \tage: 15 \\gender: man\nname: july \tage: 18 \\gender: women\nname: albert \tage: 27 \\gender: man\nname: jack \tage: 20 \\gender: man\nname: james \tage: 30 \\gender: man\nname: richard \tage: 17 \\gender: man\nname: hellen \tage: 17 \\gender: women\nname: frank \tage: 25 \\gender: man\n"
    }
   ],
   "source": [
    "\n",
>>>>>>> ff82f28c2f52353d76ec090088561514fdc6394e
    "import zipfile#使用Python自带的zipfile模块完成zip文件的读写\n",
    "import os.path\n",
    "import csv \n",
    "\n",
<<<<<<< HEAD
=======
    "\n",
>>>>>>> ff82f28c2f52353d76ec090088561514fdc6394e
    "class Person(object):\n",
    "\n",
    "\n",
    "    def __init__(self,name,age,gender):\n",
    "        self.name = name\n",
    "        self.age = age\n",
    "        self.gender = gender\n",
    "\n",
    "    def print_data(self):\n",
<<<<<<< HEAD
    "        print(\"name:\",self.name,\"\\tage:\",self.age,\"\\tgender:\",self.gender)\n",
=======
    "        print(\"name:\",self.name,\"\\tage:\",self.age,\"\\gender:\",self.gender)\n",
>>>>>>> ff82f28c2f52353d76ec090088561514fdc6394e
    "\n",
    "class  Ring(object):\n",
    "\n",
    "    def __init__(self):\n",
    "        self.people = []\n",
    "        self.id = 0\n",
    "        self.step = 1\n",
    "\n",
    "    def __iter__(self):\n",
    "        return self\n",
    "    \n",
    "    def __next__(self):\n",
    "        if len(self.people) == 0:\n",
    "            raise StopIteration\n",
    "\n",
    "        self.id = (self.id + self.step) % len(self.people) - 1\n",
    "\n",
    "        ret = self.people.pop(self.id)\n",
    "        return ret\n",
    "\n",
    "    def reset(self,start,step):\n",
    "        self.id = start - 1\n",
    "        self.step = step\n",
    "\n",
    "    def append(self,target):\n",
    "        self.people.append(target)\n",
    "\n",
    "def read_txt():\n",
    "\n",
<<<<<<< HEAD
    "    temp = []\n",
    "    with open(\"database.txt\",\"r\") as txt_file:\n",
    "        # txt_reader = txt.reader(txt_file)\n",
    "        read_txt = txt_file.readlines()\n",
=======
    "    cache = []\n",
    "    with open(\"database.txt\",\"r\") as txt_file:\n",
    "        # txt_reader = txt.reader(txt_file)\n",
    "        read_txt = txt_file.readlines()\n",
    "        # for line in read_txt:\n",
    "        #     print(line[0])\n",
>>>>>>> ff82f28c2f52353d76ec090088561514fdc6394e
    "        for row in read_txt:\n",
    "\n",
    "            row = row.strip('\\n') # \n",
    "            row = row.strip('\\r')#   \n",
    "            row = row.split(',')#\n",
<<<<<<< HEAD
    "            temp.append(row)\n",
    "        temp.pop(0)          \n",
    " \n",
    "    return temp\n",
=======
    "            cache.append(row)\n",
    "        cache.pop(0)          \n",
    "   # print(cache)\n",
    "    return cache\n",
>>>>>>> ff82f28c2f52353d76ec090088561514fdc6394e
    "\n",
    "\n",
    "if __name__ == '__main__':\n",
    "\n",
    "    data = read_txt()\n",
    "    ring = Ring()\n",
    "\n",
    "    for row in range(len(data)):\n",
    "        ring.append(Person(data[row][0], data[row][1], data[row][2]))\n",
<<<<<<< HEAD
    "\n",
    "    # ring.append(Person('Jack', 18))\n",
=======
    "    # ring.append(Person('Bob', 15))\n",
    "    # ring.append(Person('Jack', 12))\n",
    "    # ring.append(Person('Allen', 17))\n",
    "    # ring.append(Person('Tony', 20))\n",
    "    # ring.append(Person('Peter', 15))\n",
    "    # ring.append(Person('Rose', 16))\n",
    "    # ring.append(Person('Wade', 19))\n",
>>>>>>> ff82f28c2f52353d76ec090088561514fdc6394e
    "    start = 1\n",
    "    step = 2\n",
    "\n",
    "    ring.reset(start,step)\n",
    "\n",
    "    for i in ring:\n",
    "        i.print_data()\n",
    "\n"
   ]
  },
  {
   "cell_type": "code",
   "execution_count": 17,
   "metadata": {},
   "outputs": [
    {
     "output_type": "error",
     "ename": "AttributeError",
     "evalue": "'_Helper' object has no attribute 'strip'",
     "traceback": [
      "\u001b[1;31m---------------------------------------------------------------------------\u001b[0m",
      "\u001b[1;31mAttributeError\u001b[0m                            Traceback (most recent call last)",
      "\u001b[1;32m<ipython-input-17-fceae16ad259>\u001b[0m in \u001b[0;36m<module>\u001b[1;34m\u001b[0m\n\u001b[1;32m----> 1\u001b[1;33m \u001b[0mhelp\u001b[0m\u001b[1;33m.\u001b[0m\u001b[0mstrip\u001b[0m\u001b[1;33m(\u001b[0m\u001b[1;33m)\u001b[0m\u001b[1;33m\u001b[0m\u001b[1;33m\u001b[0m\u001b[0m\n\u001b[0m",
      "\u001b[1;31mAttributeError\u001b[0m: '_Helper' object has no attribute 'strip'"
     ]
    }
   ],
   "source": []
  },
  {
   "cell_type": "code",
   "execution_count": null,
   "metadata": {},
   "outputs": [],
   "source": []
  }
 ]
}