{
 "nbformat": 4,
 "nbformat_minor": 2,
 "metadata": {
  "language_info": {
   "name": "python",
   "codemirror_mode": {
    "name": "ipython",
    "version": 3
   },
   "version": "3.7.6-final"
  },
  "orig_nbformat": 2,
  "file_extension": ".py",
  "mimetype": "text/x-python",
  "name": "python",
  "npconvert_exporter": "python",
  "pygments_lexer": "ipython3",
  "version": 3,
  "kernelspec": {
   "name": "python3",
   "display_name": "Python 3"
  }
 },
 "cells": [
  {
   "cell_type": "code",
   "execution_count": 2,
   "metadata": {},
   "outputs": [
    {
     "output_type": "stream",
     "name": "stdout",
     "text": "b\nd\na\nc\n"
    }
   ],
   "source": [
    "__metaclass__ = type\n",
    "\n",
    "class Person:\n",
    "    def __init__(self,name):\n",
    "        self.name = name \n",
    "    \n",
    "    def get_name(self):\n",
    "        return self.name\n",
    "\n",
    "def create_ring(num):\n",
    "     \n",
    "    ring_class = []\n",
    "    for i in range(num):\n",
    "        temp = (input(\"依次输入姓名：\"))\n",
    "        temp = Person(temp)\n",
    "        ring_class.append(temp)\n",
    "    return ring_class\n",
    "    \n",
    "def print_ring(result):\n",
    "        \n",
    "    for i in range(len(result)):\n",
    "        temp = result[i]\n",
    "        print(temp.get_name())\n",
    "  \n",
    "\n",
    "\n",
    "def joseph_ring(step,start,cyc_class):\n",
    "      \n",
    "    index_offset = 1\n",
    "    result = []\n",
    "    middle = []\n",
    "\n",
    "    for x in range(start-index_offset,len(cyc_class)):\n",
    "        middle.append(cyc_class[x])\n",
    "    for x in range(0,start-index_offset):\n",
    "        middle.append(cyc_class[x])\n",
    "    cyc_class = middle\n",
    "\n",
    "    index = 0\n",
    "    for i in range(len(cyc_class)):\n",
    "        index = (index + step)%len(cyc_class) - index_offset\n",
    "        result.append(cyc_class[index])\n",
    "        cyc_class.pop(index)\n",
    "\n",
    "    return result\n",
    "      \n",
    "\n",
    "\n",
    "\n",
    "\n",
    "print_ring(joseph_ring(2,1,create_ring(4)))"
   ]
  },
  {
   "cell_type": "code",
   "execution_count": null,
   "metadata": {},
   "outputs": [],
   "source": []
  }
 ]
}